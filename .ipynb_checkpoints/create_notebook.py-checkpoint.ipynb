{
 "cells": [
  {
   "cell_type": "code",
   "execution_count": null,
   "metadata": {},
   "outputs": [],
   "source": [
    "\"\"\"create-notebook.py\n",
    "   Creates a minimal jupyter notebook (.ipynb)\n",
    "   Usage: create-notebook <notebook>\n",
    "\"\"\"\n",
    "import sys\n",
    "from notebook import transutils as _\n",
    "from notebook.services.contents.filemanager import FileContentsManager as FCM\n",
    "\n",
    "try:\n",
    "    notebook_fname = sys.argv[1].strip('.ipynb')\n",
    "except IndexError:\n",
    "    print(\"Usage: create-notebook <notebook>\")\n",
    "    exit()\n",
    "\n",
    "notebook_fname += '.ipynb'  # ensure .ipynb suffix is added\n",
    "FCM().new(path=notebook_fname)"
   ]
  }
 ],
 "metadata": {
  "kernelspec": {
   "display_name": "Python 3",
   "language": "python",
   "name": "python3"
  },
  "language_info": {
   "codemirror_mode": {
    "name": "ipython",
    "version": 3
   },
   "file_extension": ".py",
   "mimetype": "text/x-python",
   "name": "python",
   "nbconvert_exporter": "python",
   "pygments_lexer": "ipython3",
   "version": "3.7.4"
  }
 },
 "nbformat": 4,
 "nbformat_minor": 2
}
